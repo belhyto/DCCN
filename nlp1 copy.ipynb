{
 "cells": [
  {
   "cell_type": "code",
   "execution_count": 1,
   "metadata": {},
   "outputs": [],
   "source": [
    "import nltk\n",
    "import pandas as pd"
   ]
  },
  {
   "cell_type": "code",
   "execution_count": null,
   "metadata": {},
   "outputs": [
    {
     "name": "stdout",
     "output_type": "stream",
     "text": [
      "showing info https://raw.githubusercontent.com/nltk/nltk_data/gh-pages/index.xml\n"
     ]
    }
   ],
   "source": [
    "import nltk\n",
    "nltk.download()"
   ]
  },
  {
   "cell_type": "code",
   "execution_count": 2,
   "metadata": {},
   "outputs": [
    {
     "name": "stdout",
     "output_type": "stream",
     "text": [
      "   Order ID                     Product  Quantity Ordered  Price  Order Date   \n",
      "0    176558        USB-C Charging Cable                 2  11.95  19-04-2019  \\\n",
      "1    176559  Bose SoundSport Headphones                 1  99.99  07-04-2019   \n",
      "2    176560                Google Phone                 1    600  12-04-2019   \n",
      "3    176560            Wired Headphones                 1  11.99  12-04-2019   \n",
      "4    176561            Wired Headphones                 1  11.99  30-04-2019   \n",
      "\n",
      "       Time                      Purchase Address          City Product Type  \n",
      "0   8:46 AM          917 1st St, Dallas, TX 75001        Dallas        Cable  \n",
      "1  10:30 PM     682 Chestnut St, Boston, MA 02215        Boston   Headphones  \n",
      "2   2:38 PM  669 Spruce St, Los Angeles, CA 90001   Los Angeles        Phone  \n",
      "3   2:38 PM  669 Spruce St, Los Angeles, CA 90001   Los Angeles   Headphones  \n",
      "4   9:27 AM     333 8th St, Los Angeles, CA 90001   Los Angeles   Headphones  \n"
     ]
    }
   ],
   "source": [
    "df = pd.read_csv('Sales_Product_Combined.csv')\n",
    "text_data = df ['Product']\n",
    "print(df.head())"
   ]
  },
  {
   "cell_type": "code",
   "execution_count": 3,
   "metadata": {},
   "outputs": [
    {
     "name": "stdout",
     "output_type": "stream",
     "text": [
      "0          [USB-C, Charging, Cable]\n",
      "1    [Bose, SoundSport, Headphones]\n",
      "2                   [Google, Phone]\n",
      "3               [Wired, Headphones]\n",
      "4               [Wired, Headphones]\n",
      "Name: Product, dtype: object\n"
     ]
    }
   ],
   "source": [
    "def preprocess_text(text):\n",
    "    tokens = nltk.word_tokenize(text)\n",
    "    return tokens\n",
    "\n",
    "processed_text = text_data.apply(preprocess_text)\n",
    "print(processed_text.head())"
   ]
  },
  {
   "cell_type": "code",
   "execution_count": 4,
   "metadata": {},
   "outputs": [
    {
     "name": "stdout",
     "output_type": "stream",
     "text": [
      "0          [USB-C, Charging, Cable]\n",
      "1    [Bose, SoundSport, Headphones]\n",
      "2                   [Google, Phone]\n",
      "3               [Wired, Headphones]\n",
      "4               [Wired, Headphones]\n",
      "Name: Product, dtype: object\n"
     ]
    }
   ],
   "source": [
    "lemmatizer = nltk.WordNetLemmatizer()\n",
    "def lemmatize_words (tokens):\n",
    "  return [lemmatizer.lemmatize(token) for token in tokens]\n",
    "\n",
    "lemmatized_text = processed_text.apply(lemmatize_words)\n",
    "print(lemmatized_text.head())"
   ]
  },
  {
   "cell_type": "code",
   "execution_count": 6,
   "metadata": {},
   "outputs": [],
   "source": [
    "from nltk import ngrams"
   ]
  },
  {
   "cell_type": "code",
   "execution_count": 7,
   "metadata": {},
   "outputs": [
    {
     "name": "stdout",
     "output_type": "stream",
     "text": [
      "0            [(USB-C, Charging), (Charging, Cable)]\n",
      "1    [(Bose, SoundSport), (SoundSport, Headphones)]\n",
      "2                                 [(Google, Phone)]\n",
      "3                             [(Wired, Headphones)]\n",
      "4                             [(Wired, Headphones)]\n",
      "Name: Product, dtype: object\n"
     ]
    }
   ],
   "source": [
    "def create_ngrams (tokens, n):\n",
    "  return list(ngrams (tokens, n))\n",
    "\n",
    "bigrams = lemmatized_text.apply(lambda x: create_ngrams(x, 2))\n",
    "print(bigrams.head())\n"
   ]
  },
  {
   "cell_type": "code",
   "execution_count": 8,
   "metadata": {},
   "outputs": [],
   "source": [
    "pos_tagged_text = lemmatized_text.apply(nltk.pos_tag)\n"
   ]
  },
  {
   "cell_type": "code",
   "execution_count": 9,
   "metadata": {},
   "outputs": [
    {
     "name": "stdout",
     "output_type": "stream",
     "text": [
      "\n",
      "Parsed Sentences:\n",
      "(S (NP USB-C/JJ Charging/NNP Cable/NNP))\n",
      "(S (NP Bose/NNP SoundSport/NNP Headphones/NNP))\n",
      "(S (NP Google/NNP Phone/NNP))\n",
      "(S (VP Wired/VBN (NP Headphones/NNS)))\n",
      "(S (VP Wired/VBN (NP Headphones/NNS)))\n"
     ]
    }
   ],
   "source": [
    "def parse_sentence (pos_tagged_tokens):\n",
    "  # Define the grammar for chunking\n",
    "  grammar = r\"\"\"\n",
    "    NP: {<DT|JJ|NN.*>+}          # Chunk sequences of DT, JJ, NN\n",
    "    PP: {<IN><NP>}               # Chunk prepositions followed by NP\n",
    "    VP: {<VB.*><NP|PP|CLAUSE>+$} # Chunk verbs and their arguments\n",
    "    CLAUSE: {<NP><VP>}           # Chunk NP followed by VP\n",
    "  \"\"\"\n",
    "  cp = nltk. RegexpParser (grammar)\n",
    "  return cp.parse(pos_tagged_tokens)\n",
    "\n",
    "parsed_sentences = pos_tagged_text.apply(parse_sentence)\n",
    "print(\"\\nParsed Sentences:\")\n",
    "for sentence in parsed_sentences.head():\n",
    "  print (sentence)"
   ]
  }
 ],
 "metadata": {
  "kernelspec": {
   "display_name": "Python 3",
   "language": "python",
   "name": "python3"
  },
  "language_info": {
   "codemirror_mode": {
    "name": "ipython",
    "version": 3
   },
   "file_extension": ".py",
   "mimetype": "text/x-python",
   "name": "python",
   "nbconvert_exporter": "python",
   "pygments_lexer": "ipython3",
   "version": "3.10.0"
  }
 },
 "nbformat": 4,
 "nbformat_minor": 2
}
